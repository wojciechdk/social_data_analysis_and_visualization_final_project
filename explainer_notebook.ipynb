{
 "cells": [
  {
   "cell_type": "markdown",
   "metadata": {},
   "source": [
    "<span style=\"font-family:Lucida Bright;\">\n",
    "<hr style=\"border:2px solid black\"> </hr>\n",
    "<p style=\"margin-bottom:1cm\"></p>\n",
    "<center>\n",
    "<font size=\"7\"><b>Social Data Analysis and Visualization</b></font>\n",
    "<p style=\"margin-bottom:1cm\"></p>\n",
    "<font size=\"6.8\"><b>Final Project</b></font>   \n",
    "<p style=\"margin-bottom:0.1cm\"></p>\n",
    "    <font size=\"6.8\"><b>Explainer Notebook</b></font>   \n",
    "<p style=\"margin-bottom:0.8cm\"></p>\n",
    "<font size=\"3\"><b>Wojciech Mazurkiewicz, DTU, 14 May 2021</b></font>\n",
    "<br>\n",
    "<font size=\"3\"><b></b></font>\n",
    "</center>\n",
    "<p style=\"margin-bottom:0.7cm\"></p>\n",
    "<hr style=\"border:2px solid black\"> </hr>"
   ]
  },
  {
   "cell_type": "markdown",
   "metadata": {},
   "source": [
    "<hr style=\"border:2px solid black\"> </hr>\n",
    "\n",
    "<span style=\"font-family:Lucida Bright;\">\n",
    "\n",
    "# Initialization"
   ]
  },
  {
   "cell_type": "markdown",
   "metadata": {},
   "source": [
    "## How to read this notebook"
   ]
  },
  {
   "cell_type": "markdown",
   "metadata": {},
   "source": [
    "In this notebook, the questions are either specified in the section title, or marked with\n",
    "\n",
    "> __bold quote__\n",
    "\n",
    "The answers are marked with <span style=\"font-family:Lucida Bright;\">*Lucida Bright italics*</span>.\n",
    "\n",
    "Please note that the pre-rendered outputs will first display properly when the notebook is __trusted__.\n",
    "    \n",
    "</span>"
   ]
  },
  {
   "cell_type": "markdown",
   "metadata": {},
   "source": [
    "## Imports"
   ]
  },
  {
   "cell_type": "code",
   "execution_count": 1,
   "metadata": {
    "ExecuteTime": {
     "end_time": "2021-05-09T09:34:19.004546Z",
     "start_time": "2021-05-09T09:34:12.921806Z"
    },
    "code_folding": [],
    "pycharm": {
     "name": "#%%\n"
    }
   },
   "outputs": [],
   "source": [
    "# Define imports\n",
    "import bokeh.plotting as bplt\n",
    "import calendar\n",
    "import datetime\n",
    "import folium\n",
    "import json\n",
    "import matplotlib.pyplot as plt\n",
    "import numpy as np\n",
    "import pandas as pd\n",
    "import plotly.express as px\n",
    "import scipy.stats\n",
    "import seaborn as sns\n",
    "import urllib.request\n",
    "\n",
    "from bokeh.io import output_file\n",
    "from bokeh.io import output_notebook\n",
    "from bokeh.io import show\n",
    "from bokeh.models import Legend\n",
    "from bokeh.models.ranges import FactorRange\n",
    "from bokeh.models.sources import ColumnDataSource\n",
    "\n",
    "from folium.map import FeatureGroup\n",
    "from folium.plugins import HeatMap, HeatMapWithTime\n",
    "\n",
    "from IPython.core.interactiveshell import InteractiveShell\n",
    "from IPython.display import display\n",
    "from IPython.display import Markdown\n",
    "from IPython.display import YouTubeVideo\n",
    "\n",
    "from matplotlib.colors import Normalize\n",
    "from matplotlib.image import NonUniformImage\n",
    "from matplotlib import cm\n",
    "\n",
    "from mpl_toolkits.axes_grid1 import make_axes_locatable\n",
    "\n",
    "from pathlib import Path\n",
    "\n",
    "from scipy import stats\n",
    "\n",
    "from sklearn.feature_extraction.text import CountVectorizer\n",
    "from sklearn.feature_extraction.text import TfidfTransformer\n",
    "from sklearn.datasets import fetch_20newsgroups\n",
    "from sklearn.dummy import DummyClassifier\n",
    "from sklearn.ensemble import RandomForestClassifier\n",
    "from sklearn.metrics import classification_report\n",
    "from sklearn.metrics import precision_recall_fscore_support\n",
    "from sklearn.model_selection import cross_val_score\n",
    "from sklearn.model_selection import cross_validate\n",
    "from sklearn.model_selection import GridSearchCV\n",
    "from sklearn.model_selection import train_test_split\n",
    "from sklearn.naive_bayes import MultinomialNB\n",
    "from sklearn.neighbors import KNeighborsClassifier\n",
    "from sklearn.pipeline import Pipeline\n",
    "from sklearn.preprocessing import LabelEncoder\n",
    "from sklearn.preprocessing import MinMaxScaler"
   ]
  },
  {
   "cell_type": "markdown",
   "metadata": {},
   "source": [
    "##  Configuration"
   ]
  },
  {
   "cell_type": "code",
   "execution_count": 2,
   "metadata": {
    "ExecuteTime": {
     "end_time": "2021-05-05T15:06:32.604515Z",
     "start_time": "2021-05-05T15:06:32.586564Z"
    },
    "code_folding": [],
    "pycharm": {
     "name": "#%%\n"
    }
   },
   "outputs": [
    {
     "data": {
      "text/html": [
       "\n",
       "    <div class=\"bk-root\">\n",
       "        <a href=\"https://bokeh.org\" target=\"_blank\" class=\"bk-logo bk-logo-small bk-logo-notebook\"></a>\n",
       "        <span id=\"1002\">Loading BokehJS ...</span>\n",
       "    </div>"
      ]
     },
     "metadata": {},
     "output_type": "display_data"
    },
    {
     "data": {
      "application/javascript": [
       "\n",
       "(function(root) {\n",
       "  function now() {\n",
       "    return new Date();\n",
       "  }\n",
       "\n",
       "  var force = true;\n",
       "\n",
       "  if (typeof root._bokeh_onload_callbacks === \"undefined\" || force === true) {\n",
       "    root._bokeh_onload_callbacks = [];\n",
       "    root._bokeh_is_loading = undefined;\n",
       "  }\n",
       "\n",
       "  var JS_MIME_TYPE = 'application/javascript';\n",
       "  var HTML_MIME_TYPE = 'text/html';\n",
       "  var EXEC_MIME_TYPE = 'application/vnd.bokehjs_exec.v0+json';\n",
       "  var CLASS_NAME = 'output_bokeh rendered_html';\n",
       "\n",
       "  /**\n",
       "   * Render data to the DOM node\n",
       "   */\n",
       "  function render(props, node) {\n",
       "    var script = document.createElement(\"script\");\n",
       "    node.appendChild(script);\n",
       "  }\n",
       "\n",
       "  /**\n",
       "   * Handle when an output is cleared or removed\n",
       "   */\n",
       "  function handleClearOutput(event, handle) {\n",
       "    var cell = handle.cell;\n",
       "\n",
       "    var id = cell.output_area._bokeh_element_id;\n",
       "    var server_id = cell.output_area._bokeh_server_id;\n",
       "    // Clean up Bokeh references\n",
       "    if (id != null && id in Bokeh.index) {\n",
       "      Bokeh.index[id].model.document.clear();\n",
       "      delete Bokeh.index[id];\n",
       "    }\n",
       "\n",
       "    if (server_id !== undefined) {\n",
       "      // Clean up Bokeh references\n",
       "      var cmd = \"from bokeh.io.state import curstate; print(curstate().uuid_to_server['\" + server_id + \"'].get_sessions()[0].document.roots[0]._id)\";\n",
       "      cell.notebook.kernel.execute(cmd, {\n",
       "        iopub: {\n",
       "          output: function(msg) {\n",
       "            var id = msg.content.text.trim();\n",
       "            if (id in Bokeh.index) {\n",
       "              Bokeh.index[id].model.document.clear();\n",
       "              delete Bokeh.index[id];\n",
       "            }\n",
       "          }\n",
       "        }\n",
       "      });\n",
       "      // Destroy server and session\n",
       "      var cmd = \"import bokeh.io.notebook as ion; ion.destroy_server('\" + server_id + \"')\";\n",
       "      cell.notebook.kernel.execute(cmd);\n",
       "    }\n",
       "  }\n",
       "\n",
       "  /**\n",
       "   * Handle when a new output is added\n",
       "   */\n",
       "  function handleAddOutput(event, handle) {\n",
       "    var output_area = handle.output_area;\n",
       "    var output = handle.output;\n",
       "\n",
       "    // limit handleAddOutput to display_data with EXEC_MIME_TYPE content only\n",
       "    if ((output.output_type != \"display_data\") || (!Object.prototype.hasOwnProperty.call(output.data, EXEC_MIME_TYPE))) {\n",
       "      return\n",
       "    }\n",
       "\n",
       "    var toinsert = output_area.element.find(\".\" + CLASS_NAME.split(' ')[0]);\n",
       "\n",
       "    if (output.metadata[EXEC_MIME_TYPE][\"id\"] !== undefined) {\n",
       "      toinsert[toinsert.length - 1].firstChild.textContent = output.data[JS_MIME_TYPE];\n",
       "      // store reference to embed id on output_area\n",
       "      output_area._bokeh_element_id = output.metadata[EXEC_MIME_TYPE][\"id\"];\n",
       "    }\n",
       "    if (output.metadata[EXEC_MIME_TYPE][\"server_id\"] !== undefined) {\n",
       "      var bk_div = document.createElement(\"div\");\n",
       "      bk_div.innerHTML = output.data[HTML_MIME_TYPE];\n",
       "      var script_attrs = bk_div.children[0].attributes;\n",
       "      for (var i = 0; i < script_attrs.length; i++) {\n",
       "        toinsert[toinsert.length - 1].firstChild.setAttribute(script_attrs[i].name, script_attrs[i].value);\n",
       "        toinsert[toinsert.length - 1].firstChild.textContent = bk_div.children[0].textContent\n",
       "      }\n",
       "      // store reference to server id on output_area\n",
       "      output_area._bokeh_server_id = output.metadata[EXEC_MIME_TYPE][\"server_id\"];\n",
       "    }\n",
       "  }\n",
       "\n",
       "  function register_renderer(events, OutputArea) {\n",
       "\n",
       "    function append_mime(data, metadata, element) {\n",
       "      // create a DOM node to render to\n",
       "      var toinsert = this.create_output_subarea(\n",
       "        metadata,\n",
       "        CLASS_NAME,\n",
       "        EXEC_MIME_TYPE\n",
       "      );\n",
       "      this.keyboard_manager.register_events(toinsert);\n",
       "      // Render to node\n",
       "      var props = {data: data, metadata: metadata[EXEC_MIME_TYPE]};\n",
       "      render(props, toinsert[toinsert.length - 1]);\n",
       "      element.append(toinsert);\n",
       "      return toinsert\n",
       "    }\n",
       "\n",
       "    /* Handle when an output is cleared or removed */\n",
       "    events.on('clear_output.CodeCell', handleClearOutput);\n",
       "    events.on('delete.Cell', handleClearOutput);\n",
       "\n",
       "    /* Handle when a new output is added */\n",
       "    events.on('output_added.OutputArea', handleAddOutput);\n",
       "\n",
       "    /**\n",
       "     * Register the mime type and append_mime function with output_area\n",
       "     */\n",
       "    OutputArea.prototype.register_mime_type(EXEC_MIME_TYPE, append_mime, {\n",
       "      /* Is output safe? */\n",
       "      safe: true,\n",
       "      /* Index of renderer in `output_area.display_order` */\n",
       "      index: 0\n",
       "    });\n",
       "  }\n",
       "\n",
       "  // register the mime type if in Jupyter Notebook environment and previously unregistered\n",
       "  if (root.Jupyter !== undefined) {\n",
       "    var events = require('base/js/events');\n",
       "    var OutputArea = require('notebook/js/outputarea').OutputArea;\n",
       "\n",
       "    if (OutputArea.prototype.mime_types().indexOf(EXEC_MIME_TYPE) == -1) {\n",
       "      register_renderer(events, OutputArea);\n",
       "    }\n",
       "  }\n",
       "\n",
       "  \n",
       "  if (typeof (root._bokeh_timeout) === \"undefined\" || force === true) {\n",
       "    root._bokeh_timeout = Date.now() + 5000;\n",
       "    root._bokeh_failed_load = false;\n",
       "  }\n",
       "\n",
       "  var NB_LOAD_WARNING = {'data': {'text/html':\n",
       "     \"<div style='background-color: #fdd'>\\n\"+\n",
       "     \"<p>\\n\"+\n",
       "     \"BokehJS does not appear to have successfully loaded. If loading BokehJS from CDN, this \\n\"+\n",
       "     \"may be due to a slow or bad network connection. Possible fixes:\\n\"+\n",
       "     \"</p>\\n\"+\n",
       "     \"<ul>\\n\"+\n",
       "     \"<li>re-rerun `output_notebook()` to attempt to load from CDN again, or</li>\\n\"+\n",
       "     \"<li>use INLINE resources instead, as so:</li>\\n\"+\n",
       "     \"</ul>\\n\"+\n",
       "     \"<code>\\n\"+\n",
       "     \"from bokeh.resources import INLINE\\n\"+\n",
       "     \"output_notebook(resources=INLINE)\\n\"+\n",
       "     \"</code>\\n\"+\n",
       "     \"</div>\"}};\n",
       "\n",
       "  function display_loaded() {\n",
       "    var el = document.getElementById(\"1002\");\n",
       "    if (el != null) {\n",
       "      el.textContent = \"BokehJS is loading...\";\n",
       "    }\n",
       "    if (root.Bokeh !== undefined) {\n",
       "      if (el != null) {\n",
       "        el.textContent = \"BokehJS \" + root.Bokeh.version + \" successfully loaded.\";\n",
       "      }\n",
       "    } else if (Date.now() < root._bokeh_timeout) {\n",
       "      setTimeout(display_loaded, 100)\n",
       "    }\n",
       "  }\n",
       "\n",
       "\n",
       "  function run_callbacks() {\n",
       "    try {\n",
       "      root._bokeh_onload_callbacks.forEach(function(callback) {\n",
       "        if (callback != null)\n",
       "          callback();\n",
       "      });\n",
       "    } finally {\n",
       "      delete root._bokeh_onload_callbacks\n",
       "    }\n",
       "    console.debug(\"Bokeh: all callbacks have finished\");\n",
       "  }\n",
       "\n",
       "  function load_libs(css_urls, js_urls, callback) {\n",
       "    if (css_urls == null) css_urls = [];\n",
       "    if (js_urls == null) js_urls = [];\n",
       "\n",
       "    root._bokeh_onload_callbacks.push(callback);\n",
       "    if (root._bokeh_is_loading > 0) {\n",
       "      console.debug(\"Bokeh: BokehJS is being loaded, scheduling callback at\", now());\n",
       "      return null;\n",
       "    }\n",
       "    if (js_urls == null || js_urls.length === 0) {\n",
       "      run_callbacks();\n",
       "      return null;\n",
       "    }\n",
       "    console.debug(\"Bokeh: BokehJS not loaded, scheduling load and callback at\", now());\n",
       "    root._bokeh_is_loading = css_urls.length + js_urls.length;\n",
       "\n",
       "    function on_load() {\n",
       "      root._bokeh_is_loading--;\n",
       "      if (root._bokeh_is_loading === 0) {\n",
       "        console.debug(\"Bokeh: all BokehJS libraries/stylesheets loaded\");\n",
       "        run_callbacks()\n",
       "      }\n",
       "    }\n",
       "\n",
       "    function on_error(url) {\n",
       "      console.error(\"failed to load \" + url);\n",
       "    }\n",
       "\n",
       "    for (let i = 0; i < css_urls.length; i++) {\n",
       "      const url = css_urls[i];\n",
       "      const element = document.createElement(\"link\");\n",
       "      element.onload = on_load;\n",
       "      element.onerror = on_error.bind(null, url);\n",
       "      element.rel = \"stylesheet\";\n",
       "      element.type = \"text/css\";\n",
       "      element.href = url;\n",
       "      console.debug(\"Bokeh: injecting link tag for BokehJS stylesheet: \", url);\n",
       "      document.body.appendChild(element);\n",
       "    }\n",
       "\n",
       "    const hashes = {\"https://cdn.bokeh.org/bokeh/release/bokeh-2.3.0.min.js\": \"HjagQp6T0/7bxYTAXbLotF1MLAGWmhkY5siA1Gc/pcEgvgRPtMsRn0gQtMwGKiw1\", \"https://cdn.bokeh.org/bokeh/release/bokeh-widgets-2.3.0.min.js\": \"ZEPPTjL+mdyqgIq+/pl9KTwzji8Kow2NnI3zWY8+sFinWP/SYJ80BnfeJsa45iYj\", \"https://cdn.bokeh.org/bokeh/release/bokeh-tables-2.3.0.min.js\": \"exLqv2ACDRIaV7ZK1iL8aGzGYQvKVuT3U2CT7FsQREBxRah6JrkVCoFy0koY1YqV\"};\n",
       "\n",
       "    for (let i = 0; i < js_urls.length; i++) {\n",
       "      const url = js_urls[i];\n",
       "      const element = document.createElement('script');\n",
       "      element.onload = on_load;\n",
       "      element.onerror = on_error.bind(null, url);\n",
       "      element.async = false;\n",
       "      element.src = url;\n",
       "      if (url in hashes) {\n",
       "        element.crossOrigin = \"anonymous\";\n",
       "        element.integrity = \"sha384-\" + hashes[url];\n",
       "      }\n",
       "      console.debug(\"Bokeh: injecting script tag for BokehJS library: \", url);\n",
       "      document.head.appendChild(element);\n",
       "    }\n",
       "  };\n",
       "\n",
       "  function inject_raw_css(css) {\n",
       "    const element = document.createElement(\"style\");\n",
       "    element.appendChild(document.createTextNode(css));\n",
       "    document.body.appendChild(element);\n",
       "  }\n",
       "\n",
       "  \n",
       "  var js_urls = [\"https://cdn.bokeh.org/bokeh/release/bokeh-2.3.0.min.js\", \"https://cdn.bokeh.org/bokeh/release/bokeh-widgets-2.3.0.min.js\", \"https://cdn.bokeh.org/bokeh/release/bokeh-tables-2.3.0.min.js\"];\n",
       "  var css_urls = [];\n",
       "  \n",
       "\n",
       "  var inline_js = [\n",
       "    function(Bokeh) {\n",
       "      Bokeh.set_log_level(\"info\");\n",
       "    },\n",
       "    function(Bokeh) {\n",
       "    \n",
       "    \n",
       "    }\n",
       "  ];\n",
       "\n",
       "  function run_inline_js() {\n",
       "    \n",
       "    if (root.Bokeh !== undefined || force === true) {\n",
       "      \n",
       "    for (var i = 0; i < inline_js.length; i++) {\n",
       "      inline_js[i].call(root, root.Bokeh);\n",
       "    }\n",
       "    if (force === true) {\n",
       "        display_loaded();\n",
       "      }} else if (Date.now() < root._bokeh_timeout) {\n",
       "      setTimeout(run_inline_js, 100);\n",
       "    } else if (!root._bokeh_failed_load) {\n",
       "      console.log(\"Bokeh: BokehJS failed to load within specified timeout.\");\n",
       "      root._bokeh_failed_load = true;\n",
       "    } else if (force !== true) {\n",
       "      var cell = $(document.getElementById(\"1002\")).parents('.cell').data().cell;\n",
       "      cell.output_area.append_execute_result(NB_LOAD_WARNING)\n",
       "    }\n",
       "\n",
       "  }\n",
       "\n",
       "  if (root._bokeh_is_loading === 0) {\n",
       "    console.debug(\"Bokeh: BokehJS loaded, going straight to plotting\");\n",
       "    run_inline_js();\n",
       "  } else {\n",
       "    load_libs(css_urls, js_urls, function() {\n",
       "      console.debug(\"Bokeh: BokehJS plotting callback run at\", now());\n",
       "      run_inline_js();\n",
       "    });\n",
       "  }\n",
       "}(window));"
      ],
      "application/vnd.bokehjs_load.v0+json": "\n(function(root) {\n  function now() {\n    return new Date();\n  }\n\n  var force = true;\n\n  if (typeof root._bokeh_onload_callbacks === \"undefined\" || force === true) {\n    root._bokeh_onload_callbacks = [];\n    root._bokeh_is_loading = undefined;\n  }\n\n  \n\n  \n  if (typeof (root._bokeh_timeout) === \"undefined\" || force === true) {\n    root._bokeh_timeout = Date.now() + 5000;\n    root._bokeh_failed_load = false;\n  }\n\n  var NB_LOAD_WARNING = {'data': {'text/html':\n     \"<div style='background-color: #fdd'>\\n\"+\n     \"<p>\\n\"+\n     \"BokehJS does not appear to have successfully loaded. If loading BokehJS from CDN, this \\n\"+\n     \"may be due to a slow or bad network connection. Possible fixes:\\n\"+\n     \"</p>\\n\"+\n     \"<ul>\\n\"+\n     \"<li>re-rerun `output_notebook()` to attempt to load from CDN again, or</li>\\n\"+\n     \"<li>use INLINE resources instead, as so:</li>\\n\"+\n     \"</ul>\\n\"+\n     \"<code>\\n\"+\n     \"from bokeh.resources import INLINE\\n\"+\n     \"output_notebook(resources=INLINE)\\n\"+\n     \"</code>\\n\"+\n     \"</div>\"}};\n\n  function display_loaded() {\n    var el = document.getElementById(\"1002\");\n    if (el != null) {\n      el.textContent = \"BokehJS is loading...\";\n    }\n    if (root.Bokeh !== undefined) {\n      if (el != null) {\n        el.textContent = \"BokehJS \" + root.Bokeh.version + \" successfully loaded.\";\n      }\n    } else if (Date.now() < root._bokeh_timeout) {\n      setTimeout(display_loaded, 100)\n    }\n  }\n\n\n  function run_callbacks() {\n    try {\n      root._bokeh_onload_callbacks.forEach(function(callback) {\n        if (callback != null)\n          callback();\n      });\n    } finally {\n      delete root._bokeh_onload_callbacks\n    }\n    console.debug(\"Bokeh: all callbacks have finished\");\n  }\n\n  function load_libs(css_urls, js_urls, callback) {\n    if (css_urls == null) css_urls = [];\n    if (js_urls == null) js_urls = [];\n\n    root._bokeh_onload_callbacks.push(callback);\n    if (root._bokeh_is_loading > 0) {\n      console.debug(\"Bokeh: BokehJS is being loaded, scheduling callback at\", now());\n      return null;\n    }\n    if (js_urls == null || js_urls.length === 0) {\n      run_callbacks();\n      return null;\n    }\n    console.debug(\"Bokeh: BokehJS not loaded, scheduling load and callback at\", now());\n    root._bokeh_is_loading = css_urls.length + js_urls.length;\n\n    function on_load() {\n      root._bokeh_is_loading--;\n      if (root._bokeh_is_loading === 0) {\n        console.debug(\"Bokeh: all BokehJS libraries/stylesheets loaded\");\n        run_callbacks()\n      }\n    }\n\n    function on_error(url) {\n      console.error(\"failed to load \" + url);\n    }\n\n    for (let i = 0; i < css_urls.length; i++) {\n      const url = css_urls[i];\n      const element = document.createElement(\"link\");\n      element.onload = on_load;\n      element.onerror = on_error.bind(null, url);\n      element.rel = \"stylesheet\";\n      element.type = \"text/css\";\n      element.href = url;\n      console.debug(\"Bokeh: injecting link tag for BokehJS stylesheet: \", url);\n      document.body.appendChild(element);\n    }\n\n    const hashes = {\"https://cdn.bokeh.org/bokeh/release/bokeh-2.3.0.min.js\": \"HjagQp6T0/7bxYTAXbLotF1MLAGWmhkY5siA1Gc/pcEgvgRPtMsRn0gQtMwGKiw1\", \"https://cdn.bokeh.org/bokeh/release/bokeh-widgets-2.3.0.min.js\": \"ZEPPTjL+mdyqgIq+/pl9KTwzji8Kow2NnI3zWY8+sFinWP/SYJ80BnfeJsa45iYj\", \"https://cdn.bokeh.org/bokeh/release/bokeh-tables-2.3.0.min.js\": \"exLqv2ACDRIaV7ZK1iL8aGzGYQvKVuT3U2CT7FsQREBxRah6JrkVCoFy0koY1YqV\"};\n\n    for (let i = 0; i < js_urls.length; i++) {\n      const url = js_urls[i];\n      const element = document.createElement('script');\n      element.onload = on_load;\n      element.onerror = on_error.bind(null, url);\n      element.async = false;\n      element.src = url;\n      if (url in hashes) {\n        element.crossOrigin = \"anonymous\";\n        element.integrity = \"sha384-\" + hashes[url];\n      }\n      console.debug(\"Bokeh: injecting script tag for BokehJS library: \", url);\n      document.head.appendChild(element);\n    }\n  };\n\n  function inject_raw_css(css) {\n    const element = document.createElement(\"style\");\n    element.appendChild(document.createTextNode(css));\n    document.body.appendChild(element);\n  }\n\n  \n  var js_urls = [\"https://cdn.bokeh.org/bokeh/release/bokeh-2.3.0.min.js\", \"https://cdn.bokeh.org/bokeh/release/bokeh-widgets-2.3.0.min.js\", \"https://cdn.bokeh.org/bokeh/release/bokeh-tables-2.3.0.min.js\"];\n  var css_urls = [];\n  \n\n  var inline_js = [\n    function(Bokeh) {\n      Bokeh.set_log_level(\"info\");\n    },\n    function(Bokeh) {\n    \n    \n    }\n  ];\n\n  function run_inline_js() {\n    \n    if (root.Bokeh !== undefined || force === true) {\n      \n    for (var i = 0; i < inline_js.length; i++) {\n      inline_js[i].call(root, root.Bokeh);\n    }\n    if (force === true) {\n        display_loaded();\n      }} else if (Date.now() < root._bokeh_timeout) {\n      setTimeout(run_inline_js, 100);\n    } else if (!root._bokeh_failed_load) {\n      console.log(\"Bokeh: BokehJS failed to load within specified timeout.\");\n      root._bokeh_failed_load = true;\n    } else if (force !== true) {\n      var cell = $(document.getElementById(\"1002\")).parents('.cell').data().cell;\n      cell.output_area.append_execute_result(NB_LOAD_WARNING)\n    }\n\n  }\n\n  if (root._bokeh_is_loading === 0) {\n    console.debug(\"Bokeh: BokehJS loaded, going straight to plotting\");\n    run_inline_js();\n  } else {\n    load_libs(css_urls, js_urls, function() {\n      console.debug(\"Bokeh: BokehJS plotting callback run at\", now());\n      run_inline_js();\n    });\n  }\n}(window));"
     },
     "metadata": {},
     "output_type": "display_data"
    }
   ],
   "source": [
    "# Show matplotlib plots inline.\n",
    "%matplotlib inline\n",
    "\n",
    "# Show bokeh figures in the notebook.\n",
    "output_notebook()\n",
    "\n",
    "# Below decide which output is shown below the cells.\n",
    "InteractiveShell.ast_node_interactivity = \"none\"\n",
    "\n",
    "# Decide how to handle the \"SettingWithCopyWarning\" warning\n",
    "pd.options.mode.chained_assignment = None  # default='warn'"
   ]
  },
  {
   "cell_type": "markdown",
   "metadata": {},
   "source": [
    "## Function definitions"
   ]
  },
  {
   "cell_type": "code",
   "execution_count": 3,
   "metadata": {
    "ExecuteTime": {
     "end_time": "2021-05-05T15:06:32.649395Z",
     "start_time": "2021-05-05T15:06:32.609501Z"
    },
    "code_folding": [
     0
    ],
    "pycharm": {
     "name": "#%%\n"
    }
   },
   "outputs": [],
   "source": [
    "# A function that will print a markdown text.\n",
    "def printmd(string):\n",
    "    display(Markdown(string))\n",
    "\n",
    "\n",
    "# A function that applies default formatting to an axes.\n",
    "def format_axes(axes: plt.Axes,\n",
    "                keep_box=False):\n",
    "    if not keep_box:\n",
    "        axes.spines['top'].set_color('white')\n",
    "        axes.spines['right'].set_color('white')\n",
    "\n",
    "    axes.set_facecolor(\"white\")\n",
    "\n",
    "\n",
    "# A function that applies default formatting to annotation\n",
    "# of an axes.\n",
    "def format_axes_annotation(axes: plt.Axes):\n",
    "    axes.xaxis.label.set_fontsize(14)\n",
    "    axes.yaxis.label.set_fontsize(14)\n",
    "    axes.title.set_fontsize(16)\n",
    "\n",
    "\n",
    "# A function for creating common x-label for the figure.\n",
    "def figure_x_label(figure: plt.Figure,\n",
    "                   label: str,\n",
    "                   y_position=0.04,\n",
    "                   font_size=16):\n",
    "    figure.text(0.5, y_position, label,\n",
    "                ha='center',\n",
    "                fontdict={'size': font_size})\n",
    "\n",
    "\n",
    "# A function for creating common y-label for the figure.\n",
    "def figure_y_label(figure: plt.Figure,\n",
    "                   label: str,\n",
    "                   x_position=0.04,\n",
    "                   font_size=16):\n",
    "    figure.text(x_position, 0.5, label,\n",
    "                va='center',\n",
    "                rotation='vertical',\n",
    "                fontdict={'size': font_size})\n",
    "\n",
    "\n",
    "# A function for balancing a dataframe so that the number of rows\n",
    "# containing each value present in the designated column will be the same.\n",
    "def balance_dataframe(df: pd.DataFrame, column_name):\n",
    "    # Get the number of crimes for the least frequent crime.\n",
    "    lowest_frequency = df['Category'].value_counts().min()\n",
    "\n",
    "    # Create an empty dataframe for storing the balanced data\n",
    "    df_balanced = pd.DataFrame()\n",
    "\n",
    "    # For each value in column, randomly choose the number of samples\n",
    "    # that corresponds to the least frequent value in the column.\n",
    "    for value in df[column_name].unique():\n",
    "         df_balanced = df_balanced.append(\n",
    "             df\n",
    "             .loc[df[column_name] == value]\n",
    "             .sample(lowest_frequency)\n",
    "         )\n",
    "\n",
    "    return df_balanced\n",
    "\n",
    "\n",
    "# A function that evaluates a dictionary of models on data from\n",
    "# a pandas dataframe.\n",
    "def evaluate_models(models: dict,\n",
    "                    df: pd.DataFrame,\n",
    "                    predictor_labels: list,\n",
    "                    target_label: str,\n",
    "                    test_size=0.33):\n",
    "\n",
    "    # Get the dataset.\n",
    "    X = df.loc[:, predictor_labels].values\n",
    "    y = df.loc[:, target_label].values\n",
    "\n",
    "    # Split the dataset into a test and training set.\n",
    "    X_train, X_test, y_train, y_test = train_test_split(\n",
    "        X, y, test_size=test_size, random_state=32)\n",
    "\n",
    "    # Fit the models to the data.\n",
    "    for model_name, model in models.items():\n",
    "\n",
    "        # Print the name of the model.\n",
    "        printmd(f'*__{model_name}:__*')\n",
    "\n",
    "        # Train the model on the training set.\n",
    "        model.fit(X_train, y_train)\n",
    "\n",
    "        # Get the predictions on the test set.\n",
    "        predictions = model.predict(X_test)\n",
    "\n",
    "        # Print the classification report.\n",
    "        print(classification_report(y_test, predictions,\n",
    "                                    zero_division=0,\n",
    "                                    digits=4))"
   ]
  },
  {
   "cell_type": "markdown",
   "metadata": {},
   "source": [
    "## Paths"
   ]
  },
  {
   "cell_type": "code",
   "execution_count": 4,
   "metadata": {
    "ExecuteTime": {
     "end_time": "2021-05-05T15:06:32.706244Z",
     "start_time": "2021-05-05T15:06:32.662360Z"
    },
    "pycharm": {
     "name": "#%%\n"
    }
   },
   "outputs": [],
   "source": [
    "path_root = Path(r'C:\\GDrive\\DTU\\Kurser\\Social_Data_Analysis_and_Visualization_02806\\final_project')\n",
    "path_resources_root = path_root / 'resources'"
   ]
  },
  {
   "cell_type": "markdown",
   "metadata": {},
   "source": [
    "<hr style=\"border:2px solid black\"> </hr>\n",
    "\n",
    "# Motivation\n",
    "\n",
    "- What is your dataset?\n",
    "- Why did you choose this/these particular dataset(s)?\n",
    "- What was your goal for the end user's experience?\n"
   ]
  },
  {
   "cell_type": "markdown",
   "metadata": {},
   "source": [
    "<hr style=\"border:2px solid black\"> </hr>\n",
    "\n",
    "# Basic stats\n",
    "\n",
    "Let's understand the dataset better\n",
    "\n",
    "- Write about your choices in data cleaning and preprocessing\n",
    "- Write a short section that discusses the dataset stats, containing key points/plots from your exploratory data analysis.\n"
   ]
  },
  {
   "cell_type": "markdown",
   "metadata": {},
   "source": [
    " <hr style=\"border:2px solid black\"> </hr>\n",
    "\n",
    "# Data Analysis\n",
    "\n",
    "- Describe your data analysis and explain what you've learned about the dataset.\n",
    "- If relevant, talk about your machine-learning."
   ]
  },
  {
   "cell_type": "markdown",
   "metadata": {},
   "source": [
    "## Population of Copenhagen by **country of origin**\n",
    "\n",
    "[The Danish population is being replaced](https://ditoverblik.dk/martin-henriksen-advarer-befolkningen-udskiftes)\n",
    "\n",
    "Denmark's >independent< newspaper'\n",
    "Here's an independent article about how the Danish population is being exchanged:\n",
    "https://ditoverblik.dk/martin-henriksen-advarer-befolkningen-udskiftes/\n",
    "It's worrying, because than means that the Danish nation is disappearing at a horrifying rate, and if nothing is done, it will cease to exist soon\n",
    "And think about it: Foreigners, their children, and their children's children are already 25 % population in Copenhagen\n",
    "so in 50 years many of the noble and pure real Danes will be dead\n",
    "and the ONLY thing remaining will be the foreigners, their children, their children's children, their children's children's children, and their children's children's children's children.\n",
    "So, basically, the foreigners will have taken over and there will be NOTHING left!\n",
    "But people are blind, man! They don't notice this shit until it's too late..."
   ]
  },
  {
   "cell_type": "markdown",
   "metadata": {},
   "source": [
    "### Population by country of origin vs year"
   ]
  },
  {
   "cell_type": "markdown",
   "metadata": {},
   "source": [
    "Drop 2008 to set the number of available years to 12 for convenience of viewing."
   ]
  },
  {
   "cell_type": "code",
   "execution_count": 5,
   "metadata": {
    "ExecuteTime": {
     "end_time": "2021-05-05T15:06:33.398424Z",
     "start_time": "2021-05-05T15:06:32.710233Z"
    },
    "pycharm": {
     "name": "#%%\n"
    }
   },
   "outputs": [
    {
     "ename": "NameError",
     "evalue": "name 'df_country' is not defined",
     "output_type": "error",
     "traceback": [
      "\u001b[1;31m---------------------------------------------------------------------------\u001b[0m",
      "\u001b[1;31mNameError\u001b[0m                                 Traceback (most recent call last)",
      "\u001b[1;32m<ipython-input-5-3c29d8823bb5>\u001b[0m in \u001b[0;36m<module>\u001b[1;34m\u001b[0m\n\u001b[1;32m----> 1\u001b[1;33m \u001b[0mdf_country\u001b[0m \u001b[1;33m=\u001b[0m \u001b[0mdf_country\u001b[0m\u001b[1;33m[\u001b[0m\u001b[0mdf_country\u001b[0m\u001b[1;33m[\u001b[0m\u001b[1;34m'Year'\u001b[0m\u001b[1;33m]\u001b[0m \u001b[1;33m!=\u001b[0m \u001b[1;36m2008\u001b[0m\u001b[1;33m]\u001b[0m\u001b[1;33m\u001b[0m\u001b[1;33m\u001b[0m\u001b[0m\n\u001b[0m\u001b[0;32m      2\u001b[0m \u001b[0mdisplay\u001b[0m\u001b[1;33m(\u001b[0m\u001b[0mdf_country\u001b[0m\u001b[1;33m)\u001b[0m\u001b[1;33m\u001b[0m\u001b[1;33m\u001b[0m\u001b[0m\n",
      "\u001b[1;31mNameError\u001b[0m: name 'df_country' is not defined"
     ]
    }
   ],
   "source": [
    "df_country = df_country[df_country['Year'] != 2008]\n",
    "display(df_country)"
   ]
  },
  {
   "cell_type": "markdown",
   "metadata": {},
   "source": [
    "Get the population for each country of origin by year (4th quarter):"
   ]
  },
  {
   "cell_type": "code",
   "execution_count": null,
   "metadata": {
    "ExecuteTime": {
     "end_time": "2021-05-05T15:06:33.401387Z",
     "start_time": "2021-05-05T15:06:26.700Z"
    },
    "pycharm": {
     "name": "#%%\n"
    }
   },
   "outputs": [],
   "source": [
    "df_country_vs_year = (\n",
    "    df_country\n",
    "    .loc[:,\n",
    "         ['Year', 'Country of origin', 'Population']]\n",
    "    .groupby(['Year', 'Country of origin'])\n",
    "    .sum()\n",
    "    .unstack(level=1)\n",
    "    .droplevel(0, axis=1)\n",
    ")\n",
    "\n",
    "display(df_country_vs_year)"
   ]
  },
  {
   "cell_type": "markdown",
   "metadata": {},
   "source": [
    "### Top 10 countries"
   ]
  },
  {
   "cell_type": "code",
   "execution_count": null,
   "metadata": {
    "ExecuteTime": {
     "end_time": "2021-05-05T15:06:33.403380Z",
     "start_time": "2021-05-05T15:06:26.705Z"
    },
    "pycharm": {
     "name": "#%%\n"
    }
   },
   "outputs": [],
   "source": [
    "# Get a list of countries represented in the dataframe,\n",
    "# Sorted by summarized number of people over the years\n",
    "countries_sorted_by_number_of_people = (\n",
    "    df_country_vs_year\n",
    "    .sum()\n",
    "    .sort_values(ascending=False)\n",
    "    .index\n",
    "    .to_list()\n",
    ")\n",
    "\n",
    "# Show the countries sorted by population\n",
    "# display(countries_sorted_by_number_of_people)\n",
    "\n",
    "# Years from biggest to smallest.\n",
    "years = df_country_vs_year.index.to_list()\n",
    "years.sort(reverse=True)"
   ]
  },
  {
   "cell_type": "markdown",
   "metadata": {},
   "source": [
    "#### ... by population"
   ]
  },
  {
   "cell_type": "code",
   "execution_count": null,
   "metadata": {
    "ExecuteTime": {
     "end_time": "2021-05-05T15:06:33.405373Z",
     "start_time": "2021-05-05T15:06:26.710Z"
    },
    "pycharm": {
     "name": "#%%\n"
    }
   },
   "outputs": [],
   "source": [
    "# Get the number of years.\n",
    "n_years = len(years)\n",
    "\n",
    "# Get the number of counries.\n",
    "n_countries = len(countries_sorted_by_number_of_people)\n",
    "\n",
    "# Get the number of plots.\n",
    "n_plots = len(years)\n",
    "\n",
    "# Define the plot grid.\n",
    "n_plot_columns = 3\n",
    "n_plot_rows = int(np.ceil(n_plots / n_plot_columns))\n",
    "\n",
    "# Create a figure for the plots.\n",
    "figure, all_axes = plt.subplots(\n",
    "    n_plot_rows, n_plot_columns,\n",
    "    figsize=(5 * n_plot_columns + 2, 5 * n_plot_rows),\n",
    "    gridspec_kw={'hspace': 0.3}\n",
    ")\n",
    "\n",
    "# Get the handles of the bottom axes'.\n",
    "bottom_axes = all_axes[-1, :]\n",
    "\n",
    "# Define colors.\n",
    "n_countries_to_map = 15\n",
    "color_palette = sns.color_palette(\"hls\",\n",
    "                                  n_colors=n_countries_to_map)\n",
    "\n",
    "# Map the colors to countries.\n",
    "color_mapping = {country: color\n",
    "                 for country, color\n",
    "                 in zip(countries_sorted_by_number_of_people[:n_countries_to_map],\n",
    "                        color_palette)}\n",
    "\n",
    "# Plot.\n",
    "for idx, (year, axes) in enumerate(zip(years, all_axes.ravel()[:n_plots])):\n",
    "\n",
    "    total = df_country_vs_year.at[year, 'Total']\n",
    "\n",
    "    sns.barplot(\n",
    "        data=(\n",
    "            df_country_vs_year\n",
    "            .loc[year, ~df_country_vs_year.columns.isin(['Total'])]\n",
    "            .sort_values(ascending=False)\n",
    "            .head(10)\n",
    "            .div(1e3)\n",
    "            .reset_index()\n",
    "        ),\n",
    "        x='Country of origin',\n",
    "        y=year,\n",
    "        ax=axes,\n",
    "        palette=color_mapping)\n",
    "\n",
    "    # Set the title of the plot.\n",
    "    axes.set_title(year, y=0.9)\n",
    "    axes.set_xlabel('')\n",
    "    axes.set_ylabel('')\n",
    "    axes.set_ylim([axes.get_ylim()[0], total / 1e3 * 1.2])\n",
    "\n",
    "    draw_threshold(total * 1e-3, axes, title=f'Total: {total:,.0f}')\n",
    "\n",
    "    # Rotate x tick labels.\n",
    "    plt.setp(\n",
    "        axes.get_xticklabels(),\n",
    "        rotation=45,\n",
    "        ha='right',\n",
    "        va='top',\n",
    "    )\n",
    "\n",
    "    # Apply the standard formatting.\n",
    "    format_axes_annotation(axes)\n",
    "\n",
    "# Annotate the figure.\n",
    "# figure_x_label(figure, 'Day of week', y_position=0.06)\n",
    "figure_y_label(figure, 'Population in Copenhagen region [thousands]', x_position=0.08)\n",
    "figure.suptitle('10 most represented countries of origin in Copenhagen',\n",
    "                size=24,\n",
    "                y=0.92)"
   ]
  },
  {
   "cell_type": "markdown",
   "metadata": {},
   "source": [
    "#### ... by percentage"
   ]
  },
  {
   "cell_type": "code",
   "execution_count": null,
   "metadata": {
    "ExecuteTime": {
     "end_time": "2021-05-05T15:06:33.408364Z",
     "start_time": "2021-05-05T15:06:26.715Z"
    },
    "pycharm": {
     "name": "#%%\n"
    }
   },
   "outputs": [],
   "source": [
    "# Get the number of counries.\n",
    "n_countries = len(countries_sorted_by_number_of_people)\n",
    "\n",
    "# Get the number of plots.\n",
    "n_plots = len(years)\n",
    "\n",
    "# Define the plot grid.\n",
    "n_plot_columns = 3\n",
    "n_plot_rows = int(np.ceil(n_plots / n_plot_columns))\n",
    "\n",
    "# Create a figure for the plots.\n",
    "figure, all_axes = plt.subplots(\n",
    "    n_plot_rows, n_plot_columns,\n",
    "    sharey='all',\n",
    "    figsize=(5 * n_plot_columns + 2, 5 * n_plot_rows),\n",
    "    gridspec_kw={'hspace': 0.3}\n",
    ")\n",
    "\n",
    "# Get the handles of the bottom axes'.\n",
    "bottom_axes = all_axes[-1, :]\n",
    "\n",
    "# Define colors.\n",
    "n_countries_to_map = 15\n",
    "color_palette = sns.color_palette(\"hls\",\n",
    "                                  n_colors=n_countries_to_map)\n",
    "\n",
    "# Map the colors to countries.\n",
    "color_mapping = {country: color\n",
    "                 for country, color\n",
    "                 in zip(countries_sorted_by_number_of_people[:n_countries_to_map],\n",
    "                        color_palette)}\n",
    "\n",
    "# Plot.\n",
    "for idx, (year, axes) in enumerate(zip(years, all_axes.ravel()[:n_plots])):\n",
    "\n",
    "    # The total number of people in Copenhagen.\n",
    "    total = df_country_vs_year.at[year, 'Total']\n",
    "\n",
    "    # Show the barplot.\n",
    "    sns.barplot(\n",
    "        data=(\n",
    "            df_country_vs_year\n",
    "            .loc[year, ~df_country_vs_year.columns.isin(['Total'])]\n",
    "            .sort_values(ascending=False)\n",
    "            .head(10)\n",
    "            .mul(100 / total)\n",
    "            .reset_index()\n",
    "        ),\n",
    "        x='Country of origin',\n",
    "        y=year,\n",
    "        ax=axes,\n",
    "        palette=color_mapping)\n",
    "\n",
    "    # Set the title of the plot.\n",
    "    axes.set_title(year, y=0.9)\n",
    "    axes.set_xlabel('')\n",
    "    axes.set_ylabel('')\n",
    "\n",
    "    # Rotate x tick labels.\n",
    "    plt.setp(\n",
    "        axes.get_xticklabels(),\n",
    "        rotation=45,\n",
    "        ha='right',\n",
    "        va='top',\n",
    "    )\n",
    "\n",
    "    # Apply the standard formatting.\n",
    "    format_axes_annotation(axes)\n",
    "\n",
    "# Annotate the figure.\n",
    "# figure_x_label(figure, 'Day of week', y_position=0.06)\n",
    "figure_y_label(figure, r'% of polulation in Copenhagen region', x_position=0.08)\n",
    "figure.suptitle('10 most represented countries of origin in Copenhagen',\n",
    "                size=24,\n",
    "                y=0.91)"
   ]
  },
  {
   "cell_type": "markdown",
   "metadata": {},
   "source": [
    "#### Danes vs non-danes"
   ]
  },
  {
   "cell_type": "markdown",
   "metadata": {},
   "source": [
    "Prepare the dataframe showing the proportions of danes vs non-danes."
   ]
  },
  {
   "cell_type": "code",
   "execution_count": null,
   "metadata": {
    "ExecuteTime": {
     "end_time": "2021-05-05T15:06:33.410370Z",
     "start_time": "2021-05-05T15:06:26.721Z"
    },
    "pycharm": {
     "name": "#%%\n"
    }
   },
   "outputs": [],
   "source": [
    "# Get the number of counries.\n",
    "n_countries = len(countries_sorted_by_number_of_people)\n",
    "\n",
    "# Get the number of plots.\n",
    "n_plots = len(years)\n",
    "\n",
    "# Define the plot grid.\n",
    "n_plot_columns = 3\n",
    "n_plot_rows = int(np.ceil(n_plots / n_plot_columns))\n",
    "\n",
    "# Create a dataframe with data for danes vs non-danes.\n",
    "df_danes_vs_non_danes = (\n",
    "    df_country_vs_year\n",
    "    .loc[:, 'Denmark']\n",
    "    .to_frame('Danes')\n",
    ")\n",
    "\n",
    "df_danes_vs_non_danes['Non-danes'] = (\n",
    "    df_country_vs_year\n",
    "    .loc[:, ~df_country_vs_year.columns.isin(['Total', 'Denmark'])]\n",
    "    .sum(axis=1)\n",
    "    .to_frame('Non-danes')\n",
    ")\n",
    "\n",
    "df_danes_vs_non_danes[['Pct danes', 'Pct non-danes']] = (\n",
    "    df_danes_vs_non_danes[['Danes', 'Non-danes']]\n",
    "    .div(df_danes_vs_non_danes.sum(axis=1), axis=0)\n",
    "    .mul(100)\n",
    ")\n",
    "\n",
    "# Show the dataframe\n",
    "display(df_danes_vs_non_danes)"
   ]
  },
  {
   "cell_type": "markdown",
   "metadata": {},
   "source": [
    "Show absolute populations:"
   ]
  },
  {
   "cell_type": "code",
   "execution_count": null,
   "metadata": {
    "ExecuteTime": {
     "end_time": "2021-05-05T15:06:33.412354Z",
     "start_time": "2021-05-05T15:06:26.728Z"
    },
    "pycharm": {
     "name": "#%%\n"
    }
   },
   "outputs": [],
   "source": [
    "# Create a figure for the plots.\n",
    "figure, axes = plt.subplots(figsize=(15, 8))\n",
    "\n",
    "# Create the barplot for each year.\n",
    "sns.barplot(data=(df_danes_vs_non_danes[['Danes', 'Non-danes']]\n",
    "                  .div(1e3)\n",
    "                  .reset_index()\n",
    "                  .melt(id_vars='Year',\n",
    "                        var_name='Origin',\n",
    "                        value_name='Number of people')),\n",
    "            x='Year',\n",
    "            y='Number of people',\n",
    "            hue='Origin',\n",
    "            ax=axes)\n",
    "\n",
    "# Total population over the years.\n",
    "total = (\n",
    "    df_danes_vs_non_danes[['Danes', 'Non-danes']]\n",
    "    .div(1e3)\n",
    "    .sum(axis=1)\n",
    "    .to_numpy()\n",
    ")\n",
    "\n",
    "axes.plot(df_danes_vs_non_danes[['Danes', 'Non-danes']].div(1e3).sum(axis=1).to_numpy(),\n",
    "          color='red')\n",
    "\n",
    "axes.set_ylabel('Number of people [thousands]')\n",
    "axes.text(0, total[0] + 20, 'Total population', rotation = 5, size=14)\n",
    "\n",
    "format_axes(axes)\n",
    "format_axes_annotation(axes)"
   ]
  },
  {
   "cell_type": "markdown",
   "metadata": {},
   "source": [
    "Show the proportions in terms of the percentages of the total population:"
   ]
  },
  {
   "cell_type": "code",
   "execution_count": null,
   "metadata": {
    "ExecuteTime": {
     "end_time": "2021-05-05T15:06:33.414351Z",
     "start_time": "2021-05-05T15:06:26.734Z"
    },
    "pycharm": {
     "name": "#%%\n"
    }
   },
   "outputs": [],
   "source": [
    "# Create a figure for the plots.\n",
    "figure, axes = plt.subplots(figsize=(15, 8))\n",
    "\n",
    "# Create the barplot for each year.\n",
    "sns.barplot(data=(df_danes_vs_non_danes[['Pct danes', 'Pct non-danes']]\n",
    "                  .reset_index()\n",
    "                  .melt(id_vars='Year',\n",
    "                        var_name='Origin',\n",
    "                        value_name='Number of people')),\n",
    "            x='Year',\n",
    "            y='Number of people',\n",
    "            hue='Origin',\n",
    "            ax=axes)\n",
    "\n",
    "# Set axes limits (to make room for the legend)\n",
    "axes.set_ylim((0, 90))\n",
    "\n",
    "format_axes(axes)\n",
    "format_axes_annotation(axes)"
   ]
  },
  {
   "cell_type": "markdown",
   "metadata": {},
   "source": [
    "<hr style=\"border:2px solid black\"> </hr>\n",
    "\n",
    "# Genre"
   ]
  },
  {
   "cell_type": "markdown",
   "metadata": {},
   "source": [
    "## Which genre of data story did you use?"
   ]
  },
  {
   "cell_type": "markdown",
   "metadata": {},
   "source": [
    "## Which tools did you use from each of the 3 categories of Visual Narrative (Figure 7 in Segal and Heer). Why?\n",
    "\n",
    "The 3 categories are: \n",
    "  \n",
    "- Visual Structuring:\n",
    "    - Establishing Shot / Splash Screen\n",
    "    - Consistent Visual Platform\n",
    "    - Progress Bar / Timebar\n",
    "    - \"Checklist\" Progresss Tracker\n",
    "\n",
    "\n",
    "- Highlighting:\n",
    "    - Close-Ups\n",
    "    - Feature Distinction\n",
    "    - Character Direction\n",
    "    - Motion\n",
    "    - Audio\n",
    "    - Zooming\n",
    "\n",
    "\n",
    "- Transition guidance:\n",
    "    - Familiar Objects (but still cuts)\n",
    "    - Viewing Angle\n",
    "    - Viewer (Camera) Motion\n",
    "    - Continuity Editing\n",
    "    - Object Continuity\n",
    "    - Animated Transitions!"
   ]
  },
  {
   "cell_type": "markdown",
   "metadata": {},
   "source": [
    "## Which tools did you use from each of the 3 categories of Narrative Structure (Figure 7 in Segal and Heer). Why?\n",
    "  \n",
    "The  3 categories are:  \n",
    "  \n",
    "- Ordering:\n",
    "    - Random Access\n",
    "    - User Directed Path\n",
    "    - Linear  \n",
    "\n",
    "\n",
    "- Interactivity:\n",
    "    - Hover Highlighting / Details\n",
    "    - Filtering / Selection / Search\n",
    "    - Navigation Buttons\n",
    "    - Very Limited Interactivity\n",
    "    - Explicit Instruction\n",
    "    - Tacit Tutorial\n",
    "    - Stimulating Default Views\n",
    "\n",
    "\n",
    "- Messaging:\n",
    "    - Captions / Headlines\n",
    "    - Annotations\n",
    "    - Accompanying Article\n",
    "    - Multi-Messaging\n",
    "    - Comment Repitition\n",
    "    - Introductory Text\n",
    "    - Summary / Synthesis\n",
    "  "
   ]
  },
  {
   "cell_type": "markdown",
   "metadata": {},
   "source": [
    "<hr style=\"border:2px solid black\"> </hr>\n",
    "\n",
    "# Visualizations\n",
    "\n",
    "- Explain the visualizations you've chosen.\n",
    "- Why are they right for the story you want to tell?\n"
   ]
  },
  {
   "cell_type": "markdown",
   "metadata": {},
   "source": [
    "<hr style=\"border:2px solid black\"> </hr>\n",
    "\n",
    "# Discussion\n",
    "\n",
    "Think critically about your creation\n",
    "\n",
    "- What went well?,\n",
    "- What is still missing? What could be improved? Why?\n"
   ]
  },
  {
   "cell_type": "markdown",
   "metadata": {},
   "source": [
    "<hr style=\"border:2px solid black\"> </hr>\n",
    "\n",
    "# Contributions\n",
    "\n",
    "Who did what?\n",
    "\n",
    "- You should write (just briefly) which group member was the main responsible for which elements of the assignment. (I want you guys to understand every part of the assignment, but usually there is someone who took lead role on certain portions of the work. That's what you should explain).\n",
    "- It is not OK simply to write \"All group members contributed equally\".\n"
   ]
  },
  {
   "cell_type": "markdown",
   "metadata": {},
   "source": [
    "<hr style=\"border:2px solid black\"> </hr>\n",
    "\n",
    "# References\n",
    "\n",
    "Make sure that you use references when they're needed and follow academic standards."
   ]
  }
 ],
 "metadata": {
  "kernelspec": {
   "display_name": "PyCharm (Exercises)",
   "language": "python",
   "name": "pycharm-f0629d26"
  },
  "language_info": {
   "codemirror_mode": {
    "name": "ipython",
    "version": 3
   },
   "file_extension": ".py",
   "mimetype": "text/x-python",
   "name": "python",
   "nbconvert_exporter": "python",
   "pygments_lexer": "ipython3",
   "version": "3.8.5"
  },
  "toc": {
   "base_numbering": "0",
   "nav_menu": {},
   "number_sections": true,
   "sideBar": true,
   "skip_h1_title": false,
   "title_cell": "Table of Contents",
   "title_sidebar": "Contents",
   "toc_cell": false,
   "toc_position": {
    "height": "calc(100% - 180px)",
    "left": "10px",
    "top": "150px",
    "width": "383.977px"
   },
   "toc_section_display": true,
   "toc_window_display": true
  }
 },
 "nbformat": 4,
 "nbformat_minor": 1
}
