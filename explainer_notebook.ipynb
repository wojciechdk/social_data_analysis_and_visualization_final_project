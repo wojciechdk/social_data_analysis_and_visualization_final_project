{
 "cells": [
  {
   "cell_type": "markdown",
   "metadata": {},
   "source": [
    "<p style=\"border:2px solid black\"> </p>\n",
    "<span style=\"font-family:Lucida Bright;\">\n",
    "<p style=\"margin-bottom:1cm\"></p>\n",
    "<center>\n",
    "<font size=\"7\"><b>Social Data Analysis and</b></font>\n",
    "<p style=\"margin-bottom:0.3cm\"></p>\n",
    "<font size=\"7\"><b>Visualization</b></font>\n",
    "<p style=\"margin-bottom:1cm\"></p>\n",
    "<font size=\"3\"><b>Final Project</b></font>\n",
    "<p style=\"margin-bottom:1cm\"></p>\n",
    "<font size=\"6\"><b>Demographics of Copenhagen</b></font>\n",
    "<p style=\"margin-bottom:0.8cm\"></p>\n",
    "<font size=\"3\"><b>Wojciech Mazurkiewicz, DTU, 14 May 2021</b></font>\n",
    "<p style=\"margin-bottom:1.5cm\"></p>\n",
    "<font size=\"6\"><b>Explainer Notebook</b></font>\n",
    "<br>\n",
    "<font size=\"3\"><b></b></font>\n",
    "</center>\n",
    "<p style=\"margin-bottom:0.7cm\"></p>\n",
    "<p style=\"border:2px solid black\"> </p>"
   ]
  },
  {
   "cell_type": "markdown",
   "metadata": {},
   "source": [
    "# How to read this notebook\n",
    "\n",
    "<p style=\"border:2px solid black\"> </p>"
   ]
  },
  {
   "cell_type": "markdown",
   "metadata": {},
   "source": [
    "Please note that the pre-rendered outputs will first display properly when the notebook is __trusted__.\n",
    "\n",
    "If you are viewing the HTML-version of the notebook and would like to download the .ipynm file, you can do it [here](https://social-data-analysis-and-visualization-final-project.s3.eu-central-1.amazonaws.com/data_loading_and_cleaning.ipynb)%TODO."
   ]
  },
  {
   "cell_type": "markdown",
   "metadata": {},
   "source": [
    "# Initialization\n",
    "\n",
    "<p style=\"border:2px solid black\"> </p>"
   ]
  },
  {
   "cell_type": "markdown",
   "metadata": {},
   "source": [
    "The initialization procedure, including the definitions of many the functions that will be used to load and clean the data in this notebook, is defined in the [Initialization notebook](https://social-data-analysis-and-visualization-final-project.s3.eu-central-1.amazonaws.com/initialization.html). Let's run it now:"
   ]
  },
  {
   "cell_type": "code",
   "execution_count": null,
   "metadata": {},
   "outputs": [],
   "source": [
    "%run ./initialization.ipynb"
   ]
  },
  {
   "cell_type": "markdown",
   "metadata": {},
   "source": [
    "# Motivation\n",
    "\n",
    "<p style=\"border:2px solid black\"> </p>\n",
    "\n",
    "\n",
    "- What is your dataset?\n",
    "- Why did you choose this/these particular dataset(s)?\n",
    "- What was your goal for the end user's experience?\n",
    "\n",
    "This notebook aims to describe the process of loading and cleaning of the data about different demographical quantites for Copehhagen. Each demographical quantity is described in its own section, and, at the end, the clean data is saved to the hard drive in the form of pickled Pandas dataframes.\n",
    "\n",
    "The data about the different demographical quantities for Copenhagen has been obtained from https://kk.statistikbank.dk. As the web interface only permits a withdrawal of 50,000 cells at a time, it was in many cases necessary to split the data into multiple smaller tables, and reassemble them back to their original shape. Also, the format and the resolution of the data representing the same quantities, such as age and time, was not always consistent, and thus a major effort has been invested into cleaning and streamlining the data.\n",
    "\n",
    "I have aimed to focus only on the data which would allow to trace the change of different demographical quantities in different districts of Copenhagen over time. This quantities include:\n",
    "\n",
    "citizenzhip (danes vs. western and non-western non-danes)\n",
    "marital status\n",
    "family type and number of children\n",
    "income\n",
    "life span\n",
    "population movement data (immigration, births, deaths, etc.)\n",
    "However, out of sheer interest, I have also included the information about the entire population of Copenhagen by the country of origin.\n",
    "\n"
   ]
  },
  {
   "cell_type": "markdown",
   "metadata": {},
   "source": [
    "# Basic stats\n",
    "\n",
    "<p style=\"border:2px solid black\"> </p>\n",
    "\n",
    "Let's understand the dataset better\n",
    "\n",
    "- Write about your choices in data cleaning and preprocessing\n",
    "- Write a short section that discusses the dataset stats, containing key points/plots from your exploratory data analysis.\n"
   ]
  },
  {
   "cell_type": "markdown",
   "metadata": {},
   "source": [
    "# Data Analysis\n",
    "\n",
    "<p style=\"border:2px solid black\"> </p>\n",
    "\n",
    "- Describe your data analysis and explain what you've learned about the dataset.\n",
    "- If relevant, talk about your machine-learning."
   ]
  },
  {
   "cell_type": "markdown",
   "metadata": {},
   "source": [
    "## Population of Copenhagen by **country of origin**\n",
    "\n",
    "[The Danish population is being replaced](https://ditoverblik.dk/martin-henriksen-advarer-befolkningen-udskiftes)\n",
    "\n",
    "Denmark's >independent< newspaper'\n",
    "Here's an independent article about how the Danish population is being exchanged:\n",
    "https://ditoverblik.dk/martin-henriksen-advarer-befolkningen-udskiftes/\n",
    "It's worrying, because than means that the Danish nation is disappearing at a horrifying rate, and if nothing is done, it will cease to exist soon\n",
    "And think about it: Foreigners, their children, and their children's children are already 25 % population in Copenhagen\n",
    "so in 50 years many of the noble and pure real Danes will be dead\n",
    "and the ONLY thing remaining will be the foreigners, their children, their children's children, their children's children's children, and their children's children's children's children.\n",
    "So, basically, the foreigners will have taken over and there will be NOTHING left!\n",
    "But people are blind, man! They don't notice this shit until it's too late..."
   ]
  },
  {
   "cell_type": "markdown",
   "metadata": {},
   "source": [
    "### Population by country of origin vs year"
   ]
  },
  {
   "cell_type": "markdown",
   "metadata": {},
   "source": [
    "Drop 2008 to set the number of available years to 12 for convenience of viewing."
   ]
  },
  {
   "cell_type": "code",
   "execution_count": 5,
   "metadata": {
    "ExecuteTime": {
     "end_time": "2021-05-05T15:06:33.398424Z",
     "start_time": "2021-05-05T15:06:32.710233Z"
    },
    "pycharm": {
     "name": "#%%\n"
    }
   },
   "outputs": [
    {
     "ename": "NameError",
     "evalue": "name 'df_country' is not defined",
     "output_type": "error",
     "traceback": [
      "\u001b[1;31m---------------------------------------------------------------------------\u001b[0m",
      "\u001b[1;31mNameError\u001b[0m                                 Traceback (most recent call last)",
      "\u001b[1;32m<ipython-input-5-3c29d8823bb5>\u001b[0m in \u001b[0;36m<module>\u001b[1;34m\u001b[0m\n\u001b[1;32m----> 1\u001b[1;33m \u001b[0mdf_country\u001b[0m \u001b[1;33m=\u001b[0m \u001b[0mdf_country\u001b[0m\u001b[1;33m[\u001b[0m\u001b[0mdf_country\u001b[0m\u001b[1;33m[\u001b[0m\u001b[1;34m'Year'\u001b[0m\u001b[1;33m]\u001b[0m \u001b[1;33m!=\u001b[0m \u001b[1;36m2008\u001b[0m\u001b[1;33m]\u001b[0m\u001b[1;33m\u001b[0m\u001b[1;33m\u001b[0m\u001b[0m\n\u001b[0m\u001b[0;32m      2\u001b[0m \u001b[0mdisplay\u001b[0m\u001b[1;33m(\u001b[0m\u001b[0mdf_country\u001b[0m\u001b[1;33m)\u001b[0m\u001b[1;33m\u001b[0m\u001b[1;33m\u001b[0m\u001b[0m\n",
      "\u001b[1;31mNameError\u001b[0m: name 'df_country' is not defined"
     ]
    }
   ],
   "source": [
    "df_country = df_country[df_country['Year'] != 2008]\n",
    "display(df_country)"
   ]
  },
  {
   "cell_type": "markdown",
   "metadata": {},
   "source": [
    "Get the population for each country of origin by year (4th quarter):"
   ]
  },
  {
   "cell_type": "code",
   "execution_count": null,
   "metadata": {
    "ExecuteTime": {
     "end_time": "2021-05-05T15:06:33.401387Z",
     "start_time": "2021-05-05T15:06:26.700Z"
    },
    "pycharm": {
     "name": "#%%\n"
    }
   },
   "outputs": [],
   "source": [
    "df_country_vs_year = (\n",
    "    df_country\n",
    "    .loc[:,\n",
    "         ['Year', 'Country of origin', 'Population']]\n",
    "    .groupby(['Year', 'Country of origin'])\n",
    "    .sum()\n",
    "    .unstack(level=1)\n",
    "    .droplevel(0, axis=1)\n",
    ")\n",
    "\n",
    "display(df_country_vs_year)"
   ]
  },
  {
   "cell_type": "markdown",
   "metadata": {},
   "source": [
    "### Top 10 countries"
   ]
  },
  {
   "cell_type": "code",
   "execution_count": null,
   "metadata": {
    "ExecuteTime": {
     "end_time": "2021-05-05T15:06:33.403380Z",
     "start_time": "2021-05-05T15:06:26.705Z"
    },
    "pycharm": {
     "name": "#%%\n"
    }
   },
   "outputs": [],
   "source": [
    "# Get a list of countries represented in the dataframe,\n",
    "# Sorted by summarized number of people over the years\n",
    "countries_sorted_by_number_of_people = (\n",
    "    df_country_vs_year\n",
    "    .sum()\n",
    "    .sort_values(ascending=False)\n",
    "    .index\n",
    "    .to_list()\n",
    ")\n",
    "\n",
    "# Show the countries sorted by population\n",
    "# display(countries_sorted_by_number_of_people)\n",
    "\n",
    "# Years from biggest to smallest.\n",
    "years = df_country_vs_year.index.to_list()\n",
    "years.sort(reverse=True)"
   ]
  },
  {
   "cell_type": "markdown",
   "metadata": {},
   "source": [
    "#### ... by population"
   ]
  },
  {
   "cell_type": "code",
   "execution_count": null,
   "metadata": {
    "ExecuteTime": {
     "end_time": "2021-05-05T15:06:33.405373Z",
     "start_time": "2021-05-05T15:06:26.710Z"
    },
    "pycharm": {
     "name": "#%%\n"
    }
   },
   "outputs": [],
   "source": [
    "# Get the number of years.\n",
    "n_years = len(years)\n",
    "\n",
    "# Get the number of counries.\n",
    "n_countries = len(countries_sorted_by_number_of_people)\n",
    "\n",
    "# Get the number of plots.\n",
    "n_plots = len(years)\n",
    "\n",
    "# Define the plot grid.\n",
    "n_plot_columns = 3\n",
    "n_plot_rows = int(np.ceil(n_plots / n_plot_columns))\n",
    "\n",
    "# Create a figure for the plots.\n",
    "figure, all_axes = plt.subplots(\n",
    "    n_plot_rows, n_plot_columns,\n",
    "    figsize=(5 * n_plot_columns + 2, 5 * n_plot_rows),\n",
    "    gridspec_kw={'hspace': 0.3}\n",
    ")\n",
    "\n",
    "# Get the handles of the bottom axes'.\n",
    "bottom_axes = all_axes[-1, :]\n",
    "\n",
    "# Define colors.\n",
    "n_countries_to_map = 15\n",
    "color_palette = sns.color_palette(\"hls\",\n",
    "                                  n_colors=n_countries_to_map)\n",
    "\n",
    "# Map the colors to countries.\n",
    "color_mapping = {country: color\n",
    "                 for country, color\n",
    "                 in zip(countries_sorted_by_number_of_people[:n_countries_to_map],\n",
    "                        color_palette)}\n",
    "\n",
    "# Plot.\n",
    "for idx, (year, axes) in enumerate(zip(years, all_axes.ravel()[:n_plots])):\n",
    "\n",
    "    total = df_country_vs_year.at[year, 'Total']\n",
    "\n",
    "    sns.barplot(\n",
    "        data=(\n",
    "            df_country_vs_year\n",
    "            .loc[year, ~df_country_vs_year.columns.isin(['Total'])]\n",
    "            .sort_values(ascending=False)\n",
    "            .head(10)\n",
    "            .div(1e3)\n",
    "            .reset_index()\n",
    "        ),\n",
    "        x='Country of origin',\n",
    "        y=year,\n",
    "        ax=axes,\n",
    "        palette=color_mapping)\n",
    "\n",
    "    # Set the title of the plot.\n",
    "    axes.set_title(year, y=0.9)\n",
    "    axes.set_xlabel('')\n",
    "    axes.set_ylabel('')\n",
    "    axes.set_ylim([axes.get_ylim()[0], total / 1e3 * 1.2])\n",
    "\n",
    "    draw_threshold(total * 1e-3, axes, title=f'Total: {total:,.0f}')\n",
    "\n",
    "    # Rotate x tick labels.\n",
    "    plt.setp(\n",
    "        axes.get_xticklabels(),\n",
    "        rotation=45,\n",
    "        ha='right',\n",
    "        va='top',\n",
    "    )\n",
    "\n",
    "    # Apply the standard formatting.\n",
    "    format_axes_annotation(axes)\n",
    "\n",
    "# Annotate the figure.\n",
    "# figure_x_label(figure, 'Day of week', y_position=0.06)\n",
    "figure_y_label(figure, 'Population in Copenhagen region [thousands]', x_position=0.08)\n",
    "figure.suptitle('10 most represented countries of origin in Copenhagen',\n",
    "                size=24,\n",
    "                y=0.92)"
   ]
  },
  {
   "cell_type": "markdown",
   "metadata": {},
   "source": [
    "#### ... by percentage"
   ]
  },
  {
   "cell_type": "code",
   "execution_count": null,
   "metadata": {
    "ExecuteTime": {
     "end_time": "2021-05-05T15:06:33.408364Z",
     "start_time": "2021-05-05T15:06:26.715Z"
    },
    "pycharm": {
     "name": "#%%\n"
    }
   },
   "outputs": [],
   "source": [
    "# Get the number of counries.\n",
    "n_countries = len(countries_sorted_by_number_of_people)\n",
    "\n",
    "# Get the number of plots.\n",
    "n_plots = len(years)\n",
    "\n",
    "# Define the plot grid.\n",
    "n_plot_columns = 3\n",
    "n_plot_rows = int(np.ceil(n_plots / n_plot_columns))\n",
    "\n",
    "# Create a figure for the plots.\n",
    "figure, all_axes = plt.subplots(\n",
    "    n_plot_rows, n_plot_columns,\n",
    "    sharey='all',\n",
    "    figsize=(5 * n_plot_columns + 2, 5 * n_plot_rows),\n",
    "    gridspec_kw={'hspace': 0.3}\n",
    ")\n",
    "\n",
    "# Get the handles of the bottom axes'.\n",
    "bottom_axes = all_axes[-1, :]\n",
    "\n",
    "# Define colors.\n",
    "n_countries_to_map = 15\n",
    "color_palette = sns.color_palette(\"hls\",\n",
    "                                  n_colors=n_countries_to_map)\n",
    "\n",
    "# Map the colors to countries.\n",
    "color_mapping = {country: color\n",
    "                 for country, color\n",
    "                 in zip(countries_sorted_by_number_of_people[:n_countries_to_map],\n",
    "                        color_palette)}\n",
    "\n",
    "# Plot.\n",
    "for idx, (year, axes) in enumerate(zip(years, all_axes.ravel()[:n_plots])):\n",
    "\n",
    "    # The total number of people in Copenhagen.\n",
    "    total = df_country_vs_year.at[year, 'Total']\n",
    "\n",
    "    # Show the barplot.\n",
    "    sns.barplot(\n",
    "        data=(\n",
    "            df_country_vs_year\n",
    "            .loc[year, ~df_country_vs_year.columns.isin(['Total'])]\n",
    "            .sort_values(ascending=False)\n",
    "            .head(10)\n",
    "            .mul(100 / total)\n",
    "            .reset_index()\n",
    "        ),\n",
    "        x='Country of origin',\n",
    "        y=year,\n",
    "        ax=axes,\n",
    "        palette=color_mapping)\n",
    "\n",
    "    # Set the title of the plot.\n",
    "    axes.set_title(year, y=0.9)\n",
    "    axes.set_xlabel('')\n",
    "    axes.set_ylabel('')\n",
    "\n",
    "    # Rotate x tick labels.\n",
    "    plt.setp(\n",
    "        axes.get_xticklabels(),\n",
    "        rotation=45,\n",
    "        ha='right',\n",
    "        va='top',\n",
    "    )\n",
    "\n",
    "    # Apply the standard formatting.\n",
    "    format_axes_annotation(axes)\n",
    "\n",
    "# Annotate the figure.\n",
    "# figure_x_label(figure, 'Day of week', y_position=0.06)\n",
    "figure_y_label(figure, r'% of polulation in Copenhagen region', x_position=0.08)\n",
    "figure.suptitle('10 most represented countries of origin in Copenhagen',\n",
    "                size=24,\n",
    "                y=0.91)"
   ]
  },
  {
   "cell_type": "markdown",
   "metadata": {},
   "source": [
    "#### Danes vs non-danes"
   ]
  },
  {
   "cell_type": "markdown",
   "metadata": {},
   "source": [
    "Prepare the dataframe showing the proportions of danes vs non-danes."
   ]
  },
  {
   "cell_type": "code",
   "execution_count": null,
   "metadata": {
    "ExecuteTime": {
     "end_time": "2021-05-05T15:06:33.410370Z",
     "start_time": "2021-05-05T15:06:26.721Z"
    },
    "pycharm": {
     "name": "#%%\n"
    }
   },
   "outputs": [],
   "source": [
    "# Get the number of counries.\n",
    "n_countries = len(countries_sorted_by_number_of_people)\n",
    "\n",
    "# Get the number of plots.\n",
    "n_plots = len(years)\n",
    "\n",
    "# Define the plot grid.\n",
    "n_plot_columns = 3\n",
    "n_plot_rows = int(np.ceil(n_plots / n_plot_columns))\n",
    "\n",
    "# Create a dataframe with data for danes vs non-danes.\n",
    "df_danes_vs_non_danes = (\n",
    "    df_country_vs_year\n",
    "    .loc[:, 'Denmark']\n",
    "    .to_frame('Danes')\n",
    ")\n",
    "\n",
    "df_danes_vs_non_danes['Non-danes'] = (\n",
    "    df_country_vs_year\n",
    "    .loc[:, ~df_country_vs_year.columns.isin(['Total', 'Denmark'])]\n",
    "    .sum(axis=1)\n",
    "    .to_frame('Non-danes')\n",
    ")\n",
    "\n",
    "df_danes_vs_non_danes[['Pct danes', 'Pct non-danes']] = (\n",
    "    df_danes_vs_non_danes[['Danes', 'Non-danes']]\n",
    "    .div(df_danes_vs_non_danes.sum(axis=1), axis=0)\n",
    "    .mul(100)\n",
    ")\n",
    "\n",
    "# Show the dataframe\n",
    "display(df_danes_vs_non_danes)"
   ]
  },
  {
   "cell_type": "markdown",
   "metadata": {},
   "source": [
    "Show absolute populations:"
   ]
  },
  {
   "cell_type": "code",
   "execution_count": null,
   "metadata": {
    "ExecuteTime": {
     "end_time": "2021-05-05T15:06:33.412354Z",
     "start_time": "2021-05-05T15:06:26.728Z"
    },
    "pycharm": {
     "name": "#%%\n"
    }
   },
   "outputs": [],
   "source": [
    "# Create a figure for the plots.\n",
    "figure, axes = plt.subplots(figsize=(15, 8))\n",
    "\n",
    "# Create the barplot for each year.\n",
    "sns.barplot(data=(df_danes_vs_non_danes[['Danes', 'Non-danes']]\n",
    "                  .div(1e3)\n",
    "                  .reset_index()\n",
    "                  .melt(id_vars='Year',\n",
    "                        var_name='Origin',\n",
    "                        value_name='Number of people')),\n",
    "            x='Year',\n",
    "            y='Number of people',\n",
    "            hue='Origin',\n",
    "            ax=axes)\n",
    "\n",
    "# Total population over the years.\n",
    "total = (\n",
    "    df_danes_vs_non_danes[['Danes', 'Non-danes']]\n",
    "    .div(1e3)\n",
    "    .sum(axis=1)\n",
    "    .to_numpy()\n",
    ")\n",
    "\n",
    "axes.plot(df_danes_vs_non_danes[['Danes', 'Non-danes']].div(1e3).sum(axis=1).to_numpy(),\n",
    "          color='red')\n",
    "\n",
    "axes.set_ylabel('Number of people [thousands]')\n",
    "axes.text(0, total[0] + 20, 'Total population', rotation = 5, size=14)\n",
    "\n",
    "format_axes(axes)\n",
    "format_axes_annotation(axes)"
   ]
  },
  {
   "cell_type": "markdown",
   "metadata": {},
   "source": [
    "Show the proportions in terms of the percentages of the total population:"
   ]
  },
  {
   "cell_type": "code",
   "execution_count": null,
   "metadata": {
    "ExecuteTime": {
     "end_time": "2021-05-05T15:06:33.414351Z",
     "start_time": "2021-05-05T15:06:26.734Z"
    },
    "pycharm": {
     "name": "#%%\n"
    }
   },
   "outputs": [],
   "source": [
    "# Create a figure for the plots.\n",
    "figure, axes = plt.subplots(figsize=(15, 8))\n",
    "\n",
    "# Create the barplot for each year.\n",
    "sns.barplot(data=(df_danes_vs_non_danes[['Pct danes', 'Pct non-danes']]\n",
    "                  .reset_index()\n",
    "                  .melt(id_vars='Year',\n",
    "                        var_name='Origin',\n",
    "                        value_name='Number of people')),\n",
    "            x='Year',\n",
    "            y='Number of people',\n",
    "            hue='Origin',\n",
    "            ax=axes)\n",
    "\n",
    "# Set axes limits (to make room for the legend)\n",
    "axes.set_ylim((0, 90))\n",
    "\n",
    "format_axes(axes)\n",
    "format_axes_annotation(axes)"
   ]
  },
  {
   "cell_type": "markdown",
   "metadata": {},
   "source": [
    "# Genre\n",
    "\n",
    "<p style=\"border:2px solid black\"> </p>"
   ]
  },
  {
   "cell_type": "markdown",
   "metadata": {},
   "source": [
    "## Which genre of data story did you use?"
   ]
  },
  {
   "cell_type": "markdown",
   "metadata": {},
   "source": [
    "## Which tools did you use from each of the 3 categories of Visual Narrative (Figure 7 in Segal and Heer). Why?\n",
    "\n",
    "The 3 categories are: \n",
    "  \n",
    "- Visual Structuring:\n",
    "    - Establishing Shot / Splash Screen\n",
    "    - Consistent Visual Platform\n",
    "    - Progress Bar / Timebar\n",
    "    - \"Checklist\" Progresss Tracker\n",
    "\n",
    "\n",
    "- Highlighting:\n",
    "    - Close-Ups\n",
    "    - Feature Distinction\n",
    "    - Character Direction\n",
    "    - Motion\n",
    "    - Audio\n",
    "    - Zooming\n",
    "\n",
    "\n",
    "- Transition guidance:\n",
    "    - Familiar Objects (but still cuts)\n",
    "    - Viewing Angle\n",
    "    - Viewer (Camera) Motion\n",
    "    - Continuity Editing\n",
    "    - Object Continuity\n",
    "    - Animated Transitions!"
   ]
  },
  {
   "cell_type": "markdown",
   "metadata": {},
   "source": [
    "## Which tools did you use from each of the 3 categories of Narrative Structure (Figure 7 in Segal and Heer). Why?\n",
    "  \n",
    "The  3 categories are:  \n",
    "  \n",
    "- Ordering:\n",
    "    - Random Access\n",
    "    - User Directed Path\n",
    "    - Linear  \n",
    "\n",
    "\n",
    "- Interactivity:\n",
    "    - Hover Highlighting / Details\n",
    "    - Filtering / Selection / Search\n",
    "    - Navigation Buttons\n",
    "    - Very Limited Interactivity\n",
    "    - Explicit Instruction\n",
    "    - Tacit Tutorial\n",
    "    - Stimulating Default Views\n",
    "\n",
    "\n",
    "- Messaging:\n",
    "    - Captions / Headlines\n",
    "    - Annotations\n",
    "    - Accompanying Article\n",
    "    - Multi-Messaging\n",
    "    - Comment Repitition\n",
    "    - Introductory Text\n",
    "    - Summary / Synthesis\n",
    "  "
   ]
  },
  {
   "cell_type": "markdown",
   "metadata": {},
   "source": [
    "# Visualizations\n",
    "\n",
    "<p style=\"border:2px solid black\"> </p>\n",
    "\n",
    "- Explain the visualizations you've chosen.\n",
    "- Why are they right for the story you want to tell?\n"
   ]
  },
  {
   "cell_type": "markdown",
   "metadata": {},
   "source": [
    "# Discussion\n",
    "\n",
    "<p style=\"border:2px solid black\"> </p>\n",
    "\n",
    "Think critically about your creation\n",
    "\n",
    "- What went well?,\n",
    "- What is still missing? What could be improved? Why?\n"
   ]
  },
  {
   "cell_type": "markdown",
   "metadata": {},
   "source": [
    "# Contributions\n",
    "\n",
    "<p style=\"border:2px solid black\"> </p>\n",
    "\n",
    "Who did what?\n",
    "\n",
    "- You should write (just briefly) which group member was the main responsible for which elements of the assignment. (I want you guys to understand every part of the assignment, but usually there is someone who took lead role on certain portions of the work. That's what you should explain).\n",
    "- It is not OK simply to write \"All group members contributed equally\".\n"
   ]
  },
  {
   "cell_type": "markdown",
   "metadata": {},
   "source": [
    "# References\n",
    "\n",
    "<p style=\"border:2px solid black\"> </p>\n",
    "\n",
    "Make sure that you use references when they're needed and follow academic standards."
   ]
  }
 ],
 "metadata": {
  "hide_input": false,
  "kernelspec": {
   "display_name": "PyCharm (Exercises)",
   "language": "python",
   "name": "pycharm-f0629d26"
  },
  "language_info": {
   "codemirror_mode": {
    "name": "ipython",
    "version": 3
   },
   "file_extension": ".py",
   "mimetype": "text/x-python",
   "name": "python",
   "nbconvert_exporter": "python",
   "pygments_lexer": "ipython3",
   "version": "3.8.5"
  },
  "toc": {
   "base_numbering": "1",
   "nav_menu": {},
   "number_sections": true,
   "sideBar": true,
   "skip_h1_title": false,
   "title_cell": "Table of Contents",
   "title_sidebar": "Contents",
   "toc_cell": false,
   "toc_position": {
    "height": "calc(100% - 180px)",
    "left": "10px",
    "top": "150px",
    "width": "383.969px"
   },
   "toc_section_display": true,
   "toc_window_display": true
  }
 },
 "nbformat": 4,
 "nbformat_minor": 1
}
